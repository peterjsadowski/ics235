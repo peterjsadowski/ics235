{
  "nbformat": 4,
  "nbformat_minor": 0,
  "metadata": {
    "kernelspec": {
      "display_name": "Python 3",
      "language": "python",
      "name": "python3"
    },
    "language_info": {
      "codemirror_mode": {
        "name": "ipython",
        "version": 3
      },
      "file_extension": ".py",
      "mimetype": "text/x-python",
      "name": "python",
      "nbconvert_exporter": "python",
      "pygments_lexer": "ipython3",
      "version": "3.6.7"
    },
    "colab": {
      "name": "hw1.ipynb",
      "provenance": [],
      "collapsed_sections": [],
      "include_colab_link": true
    }
  },
  "cells": [
    {
      "cell_type": "markdown",
      "metadata": {
        "id": "view-in-github",
        "colab_type": "text"
      },
      "source": [
        "<a href=\"https://colab.research.google.com/github/peterjsadowski/ics235/blob/master/02_Numpy.ipynb\" target=\"_parent\"><img src=\"https://colab.research.google.com/assets/colab-badge.svg\" alt=\"Open In Colab\"/></a>"
      ]
    },
    {
      "cell_type": "markdown",
      "metadata": {
        "id": "Y-CPRYmynQPi",
        "colab_type": "text"
      },
      "source": [
        "# Tutorial: Working with Data"
      ]
    },
    {
      "cell_type": "markdown",
      "metadata": {
        "id": "7JXBHBH70_3P",
        "colab_type": "text"
      },
      "source": [
        "First, we need to download the data. The following code uses the numpy library to download data from a website. Numpy is a powerful library for mathematical operations on vectors and matrices.\n"
      ]
    },
    {
      "cell_type": "code",
      "metadata": {
        "id": "aP1t3LmCrlrj",
        "colab_type": "code",
        "colab": {}
      },
      "source": [
        "import numpy\n",
        "\n",
        "url = \"https://archive.ics.uci.edu/ml/machine-learning-databases/iris/iris.data\"\n",
        "features = numpy.loadtxt(url, delimiter=',', usecols=[0,1,2,3]) \n",
        "labels = numpy.loadtxt(url, delimiter=',', usecols=[4], dtype=numpy.str)"
      ],
      "execution_count": 30,
      "outputs": []
    },
    {
      "cell_type": "code",
      "metadata": {
        "id": "kc-pnkGp0_3T",
        "colab_type": "code",
        "colab": {
          "base_uri": "https://localhost:8080/",
          "height": 35
        },
        "outputId": "11fcfa2a-d1d4-496d-9379-c985f7ef8ce6"
      },
      "source": [
        "print(\"Dataset shape: \", features.shape)\n",
        "feature_names = ['sepal length', 'sepal width', 'petal length', 'petal width']"
      ],
      "execution_count": 31,
      "outputs": [
        {
          "output_type": "stream",
          "text": [
            "Dataset shape:  (150, 4)\n"
          ],
          "name": "stdout"
        }
      ]
    },
    {
      "cell_type": "markdown",
      "metadata": {
        "id": "FMv0iExWwC89",
        "colab_type": "text"
      },
      "source": [
        "## Example data manipulations in Numpy"
      ]
    },
    {
      "cell_type": "code",
      "metadata": {
        "id": "uMXfqLlFwJke",
        "colab_type": "code",
        "colab": {
          "base_uri": "https://localhost:8080/",
          "height": 69
        },
        "outputId": "cbc68cec-bb39-46da-e6fc-01c18b995af4"
      },
      "source": [
        "# Slices\n",
        "features[0:3, :]"
      ],
      "execution_count": 34,
      "outputs": [
        {
          "output_type": "execute_result",
          "data": {
            "text/plain": [
              "array([[5.1, 3.5, 1.4, 0.2],\n",
              "       [4.9, 3. , 1.4, 0.2],\n",
              "       [4.7, 3.2, 1.3, 0.2]])"
            ]
          },
          "metadata": {
            "tags": []
          },
          "execution_count": 34
        }
      ]
    },
    {
      "cell_type": "code",
      "metadata": {
        "id": "Wocl6RQcwryv",
        "colab_type": "code",
        "colab": {
          "base_uri": "https://localhost:8080/",
          "height": 52
        },
        "outputId": "ced25163-50d3-4bc5-a2c4-3e39cfbf4dfb"
      },
      "source": [
        "# Array manipulations\n",
        "print('Unique labels: ', numpy.unique(labels))\n",
        "y = (labels == 'Iris-setosa')\n",
        "print('New array y has datatype: ', y.dtype)"
      ],
      "execution_count": 39,
      "outputs": [
        {
          "output_type": "stream",
          "text": [
            "Unique labels:  ['Iris-setosa' 'Iris-versicolor' 'Iris-virginica']\n",
            "New array y has datatype:  bool\n"
          ],
          "name": "stdout"
        }
      ]
    },
    {
      "cell_type": "code",
      "metadata": {
        "id": "JE6gt3hDwWVu",
        "colab_type": "code",
        "colab": {
          "base_uri": "https://localhost:8080/",
          "height": 52
        },
        "outputId": "7ff99e48-e016-4f0b-9cff-13917cbe7b4d"
      },
      "source": [
        "# Matrix operations\n",
        "a = numpy.array([[0,1], [2,3]])\n",
        "b = a + a\n",
        "b[0,0] = 10\n",
        "print(numpy.dot(a,b))"
      ],
      "execution_count": 57,
      "outputs": [
        {
          "output_type": "stream",
          "text": [
            "[[ 4  6]\n",
            " [32 22]]\n"
          ],
          "name": "stdout"
        }
      ]
    },
    {
      "cell_type": "code",
      "metadata": {
        "id": "Mi6zm0JF0MDp",
        "colab_type": "code",
        "colab": {
          "base_uri": "https://localhost:8080/",
          "height": 35
        },
        "outputId": "e2dd8af6-c147-40a1-d824-ca47520610b0"
      },
      "source": [
        "# More sophisticated matrix operations. (Linear Regression)\n",
        "X = numpy.hstack([features, numpy.ones((features.shape[0], 1))])\n",
        "XXinv = numpy.linalg.inv( numpy.dot(X.T, X))\n",
        "b = numpy.dot(XXinv, numpy.dot(X.T, y))\n",
        "print('Linear regression coefficients: ', b)"
      ],
      "execution_count": 58,
      "outputs": [
        {
          "output_type": "stream",
          "text": [
            "Linear regression coefficients:  [ 0.06564305  0.242473   -0.22276138 -0.06335141  0.12246954]\n"
          ],
          "name": "stdout"
        }
      ]
    },
    {
      "cell_type": "markdown",
      "metadata": {
        "id": "MZGCc_KHu6yR",
        "colab_type": "text"
      },
      "source": [
        "You are asked to implement the following functions."
      ]
    },
    {
      "cell_type": "markdown",
      "metadata": {
        "id": "r554m81twN4P",
        "colab_type": "text"
      },
      "source": [
        "Jupyter notebooks enable us to plot directly in the notebook. We use the pyplot library. "
      ]
    },
    {
      "cell_type": "code",
      "metadata": {
        "id": "NXA_TdMF0_3a",
        "colab_type": "code",
        "colab": {
          "base_uri": "https://localhost:8080/",
          "height": 299
        },
        "outputId": "9b6c777e-25dd-4381-93d3-e8a15e90a274"
      },
      "source": [
        "import matplotlib.pyplot as plt\n",
        "X = features\n",
        "Y = labels\n",
        "# Plot the points in the first two dimensions.\n",
        "plt.scatter(X[Y=='Iris-setosa', 0], X[Y=='Iris-setosa', 1], color='red', label='Iris-setosa')\n",
        "plt.scatter(X[Y=='Iris-versicolor', 0], X[Y=='Iris-versicolor', 1], color='blue', label='Iris-versicolor')\n",
        "plt.scatter(X[Y=='Iris-virginica', 0], X[Y=='Iris-virginica', 1], color='green', label='Iris-virginica')\n",
        "plt.legend()\n",
        "plt.xlabel('sepal length (cm)')\n",
        "plt.ylabel('sepal width (cm)')\n",
        "plt.axis('tight')"
      ],
      "execution_count": 60,
      "outputs": [
        {
          "output_type": "execute_result",
          "data": {
            "text/plain": [
              "(4.12, 8.08, 1.88, 4.5200000000000005)"
            ]
          },
          "metadata": {
            "tags": []
          },
          "execution_count": 60
        },
        {
          "output_type": "display_data",
          "data": {
            "image/png": "[encoded data removed]",
            "text/plain": [
              "<Figure size 432x288 with 1 Axes>"
            ]
          },
          "metadata": {
            "tags": [],
            "needs_background": "light"
          }
        }
      ]
    }
  ]
}