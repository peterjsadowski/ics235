{
  "nbformat": 4,
  "nbformat_minor": 0,
  "metadata": {
    "kernelspec": {
      "display_name": "Python 3",
      "language": "python",
      "name": "python3"
    },
    "language_info": {
      "codemirror_mode": {
        "name": "ipython",
        "version": 3
      },
      "file_extension": ".py",
      "mimetype": "text/x-python",
      "name": "python",
      "nbconvert_exporter": "python",
      "pygments_lexer": "ipython3",
      "version": "3.6.7"
    },
    "colab": {
      "name": "hw1.ipynb",
      "provenance": [],
      "collapsed_sections": [],
      "include_colab_link": true
    }
  },
  "cells": [
    {
      "cell_type": "markdown",
      "metadata": {
        "id": "view-in-github",
        "colab_type": "text"
      },
      "source": [
        "<a href=\"https://colab.research.google.com/github/peterjsadowski/ics235/blob/master/02_Numpy.ipynb\" target=\"_parent\"><img src=\"https://colab.research.google.com/assets/colab-badge.svg\" alt=\"Open In Colab\"/></a>"
      ]
    },
    {
      "cell_type": "markdown",
      "metadata": {
        "id": "Y-CPRYmynQPi",
        "colab_type": "text"
      },
      "source": [
        "# Tutorial: Working with Data"
      ]
    },
    {
      "cell_type": "markdown",
      "metadata": {
        "id": "7JXBHBH70_3P",
        "colab_type": "text"
      },
      "source": [
        "First, we need to download the data. The following code uses the numpy library to download data from a website. \n"
      ]
    },
    {
      "cell_type": "code",
      "metadata": {
        "id": "aP1t3LmCrlrj",
        "colab_type": "code",
        "colab": {}
      },
      "source": [
        "import numpy\n",
        "\n",
        "url = \"https://archive.ics.uci.edu/ml/machine-learning-databases/iris/iris.data\"\n",
        "features = numpy.loadtxt(url, delimiter=',', usecols=[0,1,2,3]) \n",
        "labels = numpy.loadtxt(url, delimiter=',', usecols=[4], dtype=numpy.str)"
      ],
      "execution_count": null,
      "outputs": []
    },
    {
      "cell_type": "code",
      "metadata": {
        "id": "kc-pnkGp0_3T",
        "colab_type": "code",
        "colab": {
          "base_uri": "https://localhost:8080/",
          "height": 212
        },
        "outputId": "9f08732d-61d7-4c73-cbf1-8fe96f5c582a"
      },
      "source": [
        "# Set the column names.\n",
        "names = ['sepal length', 'sepal width', 'petal length', 'petal width', 'class']\n",
        "dataset.columns = names\n",
        "\n",
        "# Tells pandas that this is a categorical feature.\n",
        "dataset['class'] = pandas.Categorical(dataset['class']) \n",
        "print(\"Dataset shape: \", dataset.shape)\n",
        "dataset.head() # Prints first 5 examples from the data set."
      ],
      "execution_count": null,
      "outputs": [
        {
          "output_type": "stream",
          "text": [
            "Dataset shape:  (150, 5)\n"
          ],
          "name": "stdout"
        },
        {
          "output_type": "execute_result",
          "data": {
            "text/html": [
              "<div>\n",
              "<style scoped>\n",
              "    .dataframe tbody tr th:only-of-type {\n",
              "        vertical-align: middle;\n",
              "    }\n",
              "\n",
              "    .dataframe tbody tr th {\n",
              "        vertical-align: top;\n",
              "    }\n",
              "\n",
              "    .dataframe thead th {\n",
              "        text-align: right;\n",
              "    }\n",
              "</style>\n",
              "<table border=\"1\" class=\"dataframe\">\n",
              "  <thead>\n",
              "    <tr style=\"text-align: right;\">\n",
              "      <th></th>\n",
              "      <th>sepal length</th>\n",
              "      <th>sepal width</th>\n",
              "      <th>petal length</th>\n",
              "      <th>petal width</th>\n",
              "      <th>class</th>\n",
              "    </tr>\n",
              "  </thead>\n",
              "  <tbody>\n",
              "    <tr>\n",
              "      <th>0</th>\n",
              "      <td>5.1</td>\n",
              "      <td>3.5</td>\n",
              "      <td>1.4</td>\n",
              "      <td>0.2</td>\n",
              "      <td>Iris-setosa</td>\n",
              "    </tr>\n",
              "    <tr>\n",
              "      <th>1</th>\n",
              "      <td>4.9</td>\n",
              "      <td>3.0</td>\n",
              "      <td>1.4</td>\n",
              "      <td>0.2</td>\n",
              "      <td>Iris-setosa</td>\n",
              "    </tr>\n",
              "    <tr>\n",
              "      <th>2</th>\n",
              "      <td>4.7</td>\n",
              "      <td>3.2</td>\n",
              "      <td>1.3</td>\n",
              "      <td>0.2</td>\n",
              "      <td>Iris-setosa</td>\n",
              "    </tr>\n",
              "    <tr>\n",
              "      <th>3</th>\n",
              "      <td>4.6</td>\n",
              "      <td>3.1</td>\n",
              "      <td>1.5</td>\n",
              "      <td>0.2</td>\n",
              "      <td>Iris-setosa</td>\n",
              "    </tr>\n",
              "    <tr>\n",
              "      <th>4</th>\n",
              "      <td>5.0</td>\n",
              "      <td>3.6</td>\n",
              "      <td>1.4</td>\n",
              "      <td>0.2</td>\n",
              "      <td>Iris-setosa</td>\n",
              "    </tr>\n",
              "  </tbody>\n",
              "</table>\n",
              "</div>"
            ],
            "text/plain": [
              "   sepal length  sepal width  petal length  petal width        class\n",
              "0           5.1          3.5           1.4          0.2  Iris-setosa\n",
              "1           4.9          3.0           1.4          0.2  Iris-setosa\n",
              "2           4.7          3.2           1.3          0.2  Iris-setosa\n",
              "3           4.6          3.1           1.5          0.2  Iris-setosa\n",
              "4           5.0          3.6           1.4          0.2  Iris-setosa"
            ]
          },
          "metadata": {
            "tags": []
          },
          "execution_count": 3
        }
      ]
    },
    {
      "cell_type": "markdown",
      "metadata": {
        "id": "ks-snVmYvSW2",
        "colab_type": "text"
      },
      "source": [
        "Numpy is a powerful library for mathematical operations on vectors and matrices. Here we convert the pandas data into a 2-dimensional numpy array (a matrix). "
      ]
    },
    {
      "cell_type": "code",
      "metadata": {
        "id": "OJjff58Uu4kw",
        "colab_type": "code",
        "colab": {
          "base_uri": "https://localhost:8080/",
          "height": 34
        },
        "outputId": "fbf92047-5d5b-4c1d-ae25-9072bfd64ebb"
      },
      "source": [
        "X = numpy.array(dataset.iloc[:,:4]) # Convert input features into Numpy array.\n",
        "Y = dataset['class']\n",
        "\n",
        "# Split into train and test set.\n",
        "Xtrain = X[0:100, :]\n",
        "Xtest  = X[100:,:]\n",
        "print(Xtrain.shape, Xtest.shape)"
      ],
      "execution_count": null,
      "outputs": [
        {
          "output_type": "stream",
          "text": [
            "(100, 4) (50, 4)\n"
          ],
          "name": "stdout"
        }
      ]
    },
    {
      "cell_type": "markdown",
      "metadata": {
        "id": "MZGCc_KHu6yR",
        "colab_type": "text"
      },
      "source": [
        "You are asked to implement the following functions."
      ]
    },
    {
      "cell_type": "code",
      "metadata": {
        "id": "cCpOIkEA0_3X",
        "colab_type": "code",
        "colab": {}
      },
      "source": [
        "\n",
        "def knn(Xtrain, Ytrain, Xtest, K):\n",
        "    ''' Implements K-Nearest Neighbor algorithm.\n",
        "    Inputs\n",
        "        Xtrain: NxD matrix of features.\n",
        "        Ytrain: Sequence of class labels.\n",
        "        Xtest:  Matrix of features for test points.\n",
        "        K: Number of neighbors to consider.\n",
        "    \n",
        "    Returns\n",
        "        Ytest: Sequence of predicted class labels for test examples.\n",
        "    ''' \n",
        "    # WRITE ME \n",
        "    pass\n",
        "  \n",
        "def distance(x1, x2):\n",
        "    ''' Compute distance between two vectors.\n",
        "    Inputs\n",
        "        x1: numpy vector\n",
        "        x2: numpy vector \n",
        "    \n",
        "    Returns\n",
        "        distance: real value\n",
        "    '''\n",
        "    assert(len(x1) == len(x2))\n",
        "    # WRITE ME \n",
        "  \n",
        "def accuracy(y_true, y_predicted):\n",
        "    ''' Calculates the fraction of correct predictions.\n",
        "    '''\n",
        "    assert(len(y_true) == len(y_predicted))\n",
        "    # WRITE ME\n",
        "      "
      ],
      "execution_count": null,
      "outputs": []
    },
    {
      "cell_type": "markdown",
      "metadata": {
        "id": "r554m81twN4P",
        "colab_type": "text"
      },
      "source": [
        "Jupyter notebooks enable us to plot directly in the notebook. We use the pyplot library. "
      ]
    },
    {
      "cell_type": "code",
      "metadata": {
        "id": "NXA_TdMF0_3a",
        "colab_type": "code",
        "colab": {
          "base_uri": "https://localhost:8080/",
          "height": 300
        },
        "outputId": "995de317-dd6f-46f5-fdaa-e2ba26fdd5d1"
      },
      "source": [
        "import matplotlib.pyplot as plt\n",
        "# Plot the points in the first two dimensions.\n",
        "plt.scatter(X[Y=='Iris-setosa', 0], X[Y=='Iris-setosa', 1], color='red', label='Iris-setosa')\n",
        "plt.scatter(X[Y=='Iris-versicolor', 0], X[Y=='Iris-versicolor', 1], color='blue', label='Iris-versicolor')\n",
        "plt.scatter(X[Y=='Iris-virginica', 0], X[Y=='Iris-virginica', 1], color='green', label='Iris-virginica')\n",
        "plt.legend()\n",
        "plt.xlabel('sepal length (cm)')\n",
        "plt.ylabel('sepal width (cm)')\n",
        "plt.axis('tight')"
      ],
      "execution_count": null,
      "outputs": [
        {
          "output_type": "execute_result",
          "data": {
            "text/plain": [
              "(4.1092489630922815, 8.108639158574627, 1.845406031168224, 4.536101237031515)"
            ]
          },
          "metadata": {
            "tags": []
          },
          "execution_count": 7
        },
        {
          "output_type": "display_data",
          "data": {
            "image/png": "[encoded data removed]",
            "text/plain": [
              "<Figure size 432x288 with 1 Axes>"
            ]
          },
          "metadata": {
            "tags": []
          }
        }
      ]
    },
    {
      "cell_type": "markdown",
      "metadata": {
        "id": "Re2cC82D0_3e",
        "colab_type": "text"
      },
      "source": [
        "## To turn in:\n",
        "1) Implement a function that takes a training set and makes predictions on a test set.\n",
        "\n",
        "2) Find the best value of K. Split the data into a train and test set. Plot the test accuracy vs. K.\n",
        "\n",
        "3) Provide brief answers to the following questions: \n",
        "\n",
        "    a) What distance function did you use and why? \n",
        "    b) What is the computational complexity of making a (single) prediction in terms of the number of training samples, N? (i.e. O(1), O(N), O(N^2), etc.) \n",
        "    c) How about in the dimensionality D?\n",
        "    d) What would happen if we added features that were irrelevant to classification? \n",
        "    \n",
        "You are encouraged to submit a single jupyter notebook containing your analysis.\n"
      ]
    }
  ]
}