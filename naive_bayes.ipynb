{
  "nbformat": 4,
  "nbformat_minor": 0,
  "metadata": {
    "kernelspec": {
      "display_name": "Python 3",
      "language": "python",
      "name": "python3"
    },
    "language_info": {
      "codemirror_mode": {
        "name": "ipython",
        "version": 3
      },
      "file_extension": ".py",
      "mimetype": "text/x-python",
      "name": "python",
      "nbconvert_exporter": "python",
      "pygments_lexer": "ipython3",
      "version": "3.6.7"
    },
    "colab": {
      "name": "Copy of hw1.ipynb",
      "provenance": [],
      "collapsed_sections": [],
      "include_colab_link": true
    }
  },
  "cells": [
    {
      "cell_type": "markdown",
      "metadata": {
        "id": "view-in-github",
        "colab_type": "text"
      },
      "source": [
        "<a href=\"https://colab.research.google.com/github/peterjsadowski/ics235/blob/master/naive_bayes.ipynb\" target=\"_parent\"><img src=\"https://colab.research.google.com/assets/colab-badge.svg\" alt=\"Open In Colab\"/></a>"
      ]
    },
    {
      "cell_type": "markdown",
      "metadata": {
        "id": "3kMl81pn0_3N",
        "colab_type": "text"
      },
      "source": [
        "# Homework 1: Naive Bayes Classifier\n",
        "\n",
        "In this homework you will implement the Naive Bayes Classsifier on a data set of votes in the U.S. House of Representatives, with the goal of predicting the party affiliation of each congressman. The input data $X$ is given by a $N$-by-$D$ matrix, where $N$ is the number of examples and $D=16$ is the number of input features. Each feature is binary (yes/no). The targets are given by a length-$N$ sequence of classes, $Y$, that are also binary. More information on the data set can be found at  https://archive.ics.uci.edu/ml/datasets/Congressional+Voting+Records.\n",
        "\n"
      ]
    },
    {
      "cell_type": "markdown",
      "metadata": {
        "id": "7JXBHBH70_3P",
        "colab_type": "text"
      },
      "source": [
        "\n",
        "\n",
        "```\n",
        "# This is formatted as code\n",
        "```\n",
        "\n",
        "First, we need to download the data. The following code uses the urllib library to request data from a website. The pandas library is a powerful library for data analysis --- we use the read_csv method to automatically parse the comma seperated variable (csv) file."
      ]
    },
    {
      "cell_type": "code",
      "metadata": {
        "id": "kc-pnkGp0_3T",
        "colab_type": "code",
        "outputId": "b029ceab-b8dc-49d8-808e-fca024374aa6",
        "colab": {
          "base_uri": "https://localhost:8080/",
          "height": 222
        }
      },
      "source": [
        "import pandas \n",
        "import urllib.request  \n",
        "import numpy   # Numerical python.\n",
        "\n",
        "# Download the data.\n",
        "url = \"https://archive.ics.uci.edu/ml/machine-learning-databases/voting-records/house-votes-84.data\"\n",
        "response = urllib.request.urlopen(url)\n",
        "\n",
        "# Interpret text data into pandas data frame. Interpret 'abstain' votes as 'no'.\n",
        "dataset  = pandas.read_csv(response, header=None, true_values=['y'], false_values=['n','?'])\n",
        "\n",
        "# Set the column names.\n",
        "names = ['label'] + [f'vote_{i}' for i in range(16)]\n",
        "dataset.columns = names\n",
        "\n",
        "# Tells pandas that this is a categorical feature.\n",
        "dataset['label'] = pandas.Categorical(dataset['label'])\n",
        "\n",
        "print(\"Dataset shape: \", dataset.shape)\n",
        "dataset.head() # Prints first 5 examples from the data set."
      ],
      "execution_count": 0,
      "outputs": [
        {
          "output_type": "stream",
          "text": [
            "Dataset shape:  (435, 17)\n"
          ],
          "name": "stdout"
        },
        {
          "output_type": "execute_result",
          "data": {
            "text/html": [
              "<div>\n",
              "<style scoped>\n",
              "    .dataframe tbody tr th:only-of-type {\n",
              "        vertical-align: middle;\n",
              "    }\n",
              "\n",
              "    .dataframe tbody tr th {\n",
              "        vertical-align: top;\n",
              "    }\n",
              "\n",
              "    .dataframe thead th {\n",
              "        text-align: right;\n",
              "    }\n",
              "</style>\n",
              "<table border=\"1\" class=\"dataframe\">\n",
              "  <thead>\n",
              "    <tr style=\"text-align: right;\">\n",
              "      <th></th>\n",
              "      <th>label</th>\n",
              "      <th>vote_0</th>\n",
              "      <th>vote_1</th>\n",
              "      <th>vote_2</th>\n",
              "      <th>vote_3</th>\n",
              "      <th>vote_4</th>\n",
              "      <th>vote_5</th>\n",
              "      <th>vote_6</th>\n",
              "      <th>vote_7</th>\n",
              "      <th>vote_8</th>\n",
              "      <th>vote_9</th>\n",
              "      <th>vote_10</th>\n",
              "      <th>vote_11</th>\n",
              "      <th>vote_12</th>\n",
              "      <th>vote_13</th>\n",
              "      <th>vote_14</th>\n",
              "      <th>vote_15</th>\n",
              "    </tr>\n",
              "  </thead>\n",
              "  <tbody>\n",
              "    <tr>\n",
              "      <th>0</th>\n",
              "      <td>republican</td>\n",
              "      <td>False</td>\n",
              "      <td>True</td>\n",
              "      <td>False</td>\n",
              "      <td>True</td>\n",
              "      <td>True</td>\n",
              "      <td>True</td>\n",
              "      <td>False</td>\n",
              "      <td>False</td>\n",
              "      <td>False</td>\n",
              "      <td>True</td>\n",
              "      <td>False</td>\n",
              "      <td>True</td>\n",
              "      <td>True</td>\n",
              "      <td>True</td>\n",
              "      <td>False</td>\n",
              "      <td>True</td>\n",
              "    </tr>\n",
              "    <tr>\n",
              "      <th>1</th>\n",
              "      <td>republican</td>\n",
              "      <td>False</td>\n",
              "      <td>True</td>\n",
              "      <td>False</td>\n",
              "      <td>True</td>\n",
              "      <td>True</td>\n",
              "      <td>True</td>\n",
              "      <td>False</td>\n",
              "      <td>False</td>\n",
              "      <td>False</td>\n",
              "      <td>False</td>\n",
              "      <td>False</td>\n",
              "      <td>True</td>\n",
              "      <td>True</td>\n",
              "      <td>True</td>\n",
              "      <td>False</td>\n",
              "      <td>False</td>\n",
              "    </tr>\n",
              "    <tr>\n",
              "      <th>2</th>\n",
              "      <td>democrat</td>\n",
              "      <td>False</td>\n",
              "      <td>True</td>\n",
              "      <td>True</td>\n",
              "      <td>False</td>\n",
              "      <td>True</td>\n",
              "      <td>True</td>\n",
              "      <td>False</td>\n",
              "      <td>False</td>\n",
              "      <td>False</td>\n",
              "      <td>False</td>\n",
              "      <td>True</td>\n",
              "      <td>False</td>\n",
              "      <td>True</td>\n",
              "      <td>True</td>\n",
              "      <td>False</td>\n",
              "      <td>False</td>\n",
              "    </tr>\n",
              "    <tr>\n",
              "      <th>3</th>\n",
              "      <td>democrat</td>\n",
              "      <td>False</td>\n",
              "      <td>True</td>\n",
              "      <td>True</td>\n",
              "      <td>False</td>\n",
              "      <td>False</td>\n",
              "      <td>True</td>\n",
              "      <td>False</td>\n",
              "      <td>False</td>\n",
              "      <td>False</td>\n",
              "      <td>False</td>\n",
              "      <td>True</td>\n",
              "      <td>False</td>\n",
              "      <td>True</td>\n",
              "      <td>False</td>\n",
              "      <td>False</td>\n",
              "      <td>True</td>\n",
              "    </tr>\n",
              "    <tr>\n",
              "      <th>4</th>\n",
              "      <td>democrat</td>\n",
              "      <td>True</td>\n",
              "      <td>True</td>\n",
              "      <td>True</td>\n",
              "      <td>False</td>\n",
              "      <td>True</td>\n",
              "      <td>True</td>\n",
              "      <td>False</td>\n",
              "      <td>False</td>\n",
              "      <td>False</td>\n",
              "      <td>False</td>\n",
              "      <td>True</td>\n",
              "      <td>False</td>\n",
              "      <td>True</td>\n",
              "      <td>True</td>\n",
              "      <td>True</td>\n",
              "      <td>True</td>\n",
              "    </tr>\n",
              "  </tbody>\n",
              "</table>\n",
              "</div>"
            ],
            "text/plain": [
              "        label  vote_0  vote_1  vote_2  ...  vote_12  vote_13  vote_14  vote_15\n",
              "0  republican   False    True   False  ...     True     True    False     True\n",
              "1  republican   False    True   False  ...     True     True    False    False\n",
              "2    democrat   False    True    True  ...     True     True    False    False\n",
              "3    democrat   False    True    True  ...     True    False    False     True\n",
              "4    democrat    True    True    True  ...     True     True     True     True\n",
              "\n",
              "[5 rows x 17 columns]"
            ]
          },
          "metadata": {
            "tags": []
          },
          "execution_count": 18
        }
      ]
    },
    {
      "cell_type": "markdown",
      "metadata": {
        "id": "ks-snVmYvSW2",
        "colab_type": "text"
      },
      "source": [
        "Numpy is a powerful library for mathematical operations on vectors and matrices. Here we convert the pandas data into a 2-dimensional numpy array (a matrix). "
      ]
    },
    {
      "cell_type": "code",
      "metadata": {
        "id": "OJjff58Uu4kw",
        "colab_type": "code",
        "outputId": "e6cdf658-d6a8-45a2-9746-6e5a051b75b6",
        "colab": {
          "base_uri": "https://localhost:8080/",
          "height": 35
        }
      },
      "source": [
        "X = numpy.array(dataset.iloc[:,1:]) # Convert input features into Numpy array.\n",
        "Y = dataset['label'].cat.codes # Converts string labels to binary values.\n",
        "\n",
        "# Split data into train and test set.\n",
        "Xtrain = X[0:100, :]\n",
        "Xtest  = X[100:,:]\n",
        "print(Xtrain.shape, Xtest.shape)"
      ],
      "execution_count": 0,
      "outputs": [
        {
          "output_type": "stream",
          "text": [
            "(100, 16) (335, 16)\n"
          ],
          "name": "stdout"
        }
      ]
    },
    {
      "cell_type": "markdown",
      "metadata": {
        "id": "MZGCc_KHu6yR",
        "colab_type": "text"
      },
      "source": [
        "You are asked to implement the following functions."
      ]
    },
    {
      "cell_type": "code",
      "metadata": {
        "id": "cCpOIkEA0_3X",
        "colab_type": "code",
        "colab": {}
      },
      "source": [
        "\n",
        "def generative_model(Xtrain):\n",
        "    ''' \n",
        "    Implements a generative algorithm on binary data.\n",
        "    Inputs\n",
        "        Xtrain: NxD matrix of features.\n",
        "        Ytrain: N vector of class labels\n",
        "    \n",
        "    Returns\n",
        "        p_label: Length 2 vector of class probabilities.\n",
        "        p_votes: 2xD Matrix where entry i,j is p(x_j|v=i).\n",
        "    ''' \n",
        "    # WRITE ME \n",
        "    pass\n",
        "    return p_label, p_votes\n",
        "  \n",
        "def discriminative_model(p_label, p_votes, Xtest):\n",
        "    '''\n",
        "    Implements Naive Bayes Classification.\n",
        "    Inputs\n",
        "      p_label, p_votes: From generative_model.\n",
        "      Xtest: NxD matrix of binary features.\n",
        "    '''\n",
        "    # WRITE ME\n",
        "    pass\n",
        "\n",
        "def accuracy(y_true, y_predicted):\n",
        "    ''' Calculates the fraction of correct predictions.\n",
        "    '''\n",
        "    assert(len(y_true) == len(y_predicted))\n",
        "    # WRITE ME\n",
        "    pass\n",
        "    "
      ],
      "execution_count": 0,
      "outputs": []
    },
    {
      "cell_type": "markdown",
      "metadata": {
        "id": "Re2cC82D0_3e",
        "colab_type": "text"
      },
      "source": [
        "## To turn in:\n",
        "1) Implement the Naive Bayes Classifier using the starter code above. \n",
        "\n",
        "2) Compute the log probability of the test set. \n",
        "\n",
        "3) Compare the NB classifier to a model in which we predict a 50-50 chance for each vote, in terms of accuracy and the log probability. Which model is better and why? Describe two situations in which the Naive Bayes Classifier will fail. \n",
        "\n"
      ]
    }
  ]
}