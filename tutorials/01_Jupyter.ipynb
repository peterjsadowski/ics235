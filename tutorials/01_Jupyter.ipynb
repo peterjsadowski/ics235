{
  "nbformat": 4,
  "nbformat_minor": 0,
  "metadata": {
    "kernelspec": {
      "display_name": "Python 3",
      "language": "python",
      "name": "python3"
    },
    "language_info": {
      "codemirror_mode": {
        "name": "ipython",
        "version": 3
      },
      "file_extension": ".py",
      "mimetype": "text/x-python",
      "name": "python",
      "nbconvert_exporter": "python",
      "pygments_lexer": "ipython3",
      "version": "3.7.4"
    },
    "colab": {
      "name": "01-Jupyter.ipynb",
      "provenance": [],
      "include_colab_link": true
    }
  },
  "cells": [
    {
      "cell_type": "markdown",
      "metadata": {
        "id": "view-in-github",
        "colab_type": "text"
      },
      "source": [
        "<a href=\"https://colab.research.google.com/github/peterjsadowski/ics235/blob/master/tutorials/01_Jupyter.ipynb\" target=\"_parent\"><img src=\"https://colab.research.google.com/assets/colab-badge.svg\" alt=\"Open In Colab\"/></a>"
      ]
    },
    {
      "cell_type": "markdown",
      "metadata": {
        "id": "zTrAtXQQCgwq",
        "colab_type": "text"
      },
      "source": [
        "# Introduction to Jupyter\n",
        "\n",
        "This is a Jupyter notebook --- a single file that contains code, figures, and text. You can run it using Jupyter on your machine, or in a free cloud container using [Google Colab](https://colab.research.google.com).\n",
        "\n",
        "Notebooks are organized into cells. Each cell contains either text or code. Code cells can be executed using Ctrl-Enter or clicking the 'run' button."
      ]
    },
    {
      "cell_type": "code",
      "metadata": {
        "id": "uLcKsBgOCgwr",
        "colab_type": "code",
        "outputId": "68a58be1-4707-4b47-d14c-7c752e2e09f6",
        "colab": {}
      },
      "source": [
        "# This is a code cell. Select me and press Ctrl-Enter.\n",
        "message = \"Success!\"\n",
        "print(message)"
      ],
      "execution_count": 0,
      "outputs": [
        {
          "output_type": "stream",
          "text": [
            "Success!\n"
          ],
          "name": "stdout"
        }
      ]
    },
    {
      "cell_type": "markdown",
      "metadata": {
        "id": "cdVMopiFCgww",
        "colab_type": "text"
      },
      "source": [
        "Create new code cells using the '+' menu or via the keyboard shortcut 'Ctrl-m b'. "
      ]
    },
    {
      "cell_type": "code",
      "metadata": {
        "id": "YOM4nprxCgwx",
        "colab_type": "code",
        "outputId": "a41e6471-0ddc-4bc4-cd7a-f0741406e1d9",
        "colab": {}
      },
      "source": [
        "# This is a second code cell.\n",
        "print(message) # Requires message defined in first code cell.\n",
        "'(Another) ' + message # The return value of the last line of a cell is printed."
      ],
      "execution_count": 0,
      "outputs": [
        {
          "output_type": "stream",
          "text": [
            "Success!\n"
          ],
          "name": "stdout"
        },
        {
          "output_type": "execute_result",
          "data": {
            "text/plain": [
              "'(Another) Success!'"
            ]
          },
          "metadata": {
            "tags": []
          },
          "execution_count": 2
        }
      ]
    },
    {
      "cell_type": "markdown",
      "metadata": {
        "id": "7RmXe1tvCgw0",
        "colab_type": "text"
      },
      "source": [
        "# Loading Data\n",
        "\n",
        "As an example, we will load a spreadsheet of data using the pandas library and run some visualizations."
      ]
    },
    {
      "cell_type": "code",
      "metadata": {
        "id": "BGUpnTYiCgw1",
        "colab_type": "code",
        "outputId": "2769df00-3065-44a5-974c-50dc3d5e189d",
        "colab": {}
      },
      "source": [
        "# To load Excel data, we need an additional library. \n",
        "# Python libraries can be installed using pip.\n",
        "# The exclamation point is 'Jupyter Magic' for running this command in the shell.\n",
        "!pip install xlrd"
      ],
      "execution_count": 0,
      "outputs": [
        {
          "output_type": "stream",
          "text": [
            "Requirement already satisfied: xlrd in /home/psadow/.conda/envs/env_9_2019/lib/python3.7/site-packages (1.2.0)\n"
          ],
          "name": "stdout"
        }
      ]
    },
    {
      "cell_type": "code",
      "metadata": {
        "id": "OexThAf2Cgw3",
        "colab_type": "code",
        "outputId": "48f266ab-bc67-4693-9350-4dbb4787ee03",
        "colab": {}
      },
      "source": [
        "import pandas\n",
        "import urllib\n",
        "\n",
        "url  = 'http://www.saedsayad.com/datasets/Iris.xls'  # Alternatively: \"https://archive.ics.uci.edu/ml/machine-learning-databases/iris/iris.data\"\n",
        "filename = './Iris.xls'\n",
        "response = urllib.request.urlretrieve(url, filename) # Download file. \n",
        "data = pandas.read_excel(filename, usecols=range(5)) # Read file into pandas DataFrame object.\n",
        "data['iris'] = pandas.Categorical(data['iris'])      # Tells pandas that this is a categorical feature.\n",
        "print('Data matrix shape is:' + str(data.shape))    \n",
        "print(data.head(n=4))"
      ],
      "execution_count": 0,
      "outputs": [
        {
          "output_type": "stream",
          "text": [
            "Data matrix shape is:(150, 5)\n",
            "   sepal length  sepal width  petal length  petal width         iris\n",
            "0           5.1          3.5           1.4          0.2  Iris-setosa\n",
            "1           4.9          3.0           1.4          0.2  Iris-setosa\n",
            "2           4.7          3.2           1.3          0.2  Iris-setosa\n",
            "3           4.6          3.1           1.5          0.2  Iris-setosa\n"
          ],
          "name": "stdout"
        }
      ]
    },
    {
      "cell_type": "markdown",
      "metadata": {
        "id": "N5CgBMneCgw6",
        "colab_type": "text"
      },
      "source": [
        "# Manipulating Data"
      ]
    },
    {
      "cell_type": "code",
      "metadata": {
        "id": "uvuwKWwLCgw7",
        "colab_type": "code",
        "outputId": "03c680c3-6e0c-4d90-a3f9-cdda161ec4a7",
        "colab": {}
      },
      "source": [
        "print('Unique species: ' + str(data['iris'].unique()))\n",
        "print('Mean sepal length: ' + str(data['sepal length'].mean()))\n",
        "print('')\n",
        "# Pandas has a nice method called 'corr' that produces a correlation matrix.\n",
        "print('Correlation matrix: ')\n",
        "print(str(data.corr()))"
      ],
      "execution_count": 0,
      "outputs": [
        {
          "output_type": "stream",
          "text": [
            "Unique species: [Iris-setosa, Iris-versicolor, Iris-virginica]\n",
            "Categories (3, object): [Iris-setosa, Iris-versicolor, Iris-virginica]\n",
            "Mean sepal length: 5.843333333333334\n",
            "\n",
            "Correlation matrix: \n",
            "              sepal length  sepal width  petal length  petal width\n",
            "sepal length      1.000000    -0.109369      0.871754     0.817954\n",
            "sepal width      -0.109369     1.000000     -0.420516    -0.356544\n",
            "petal length      0.871754    -0.420516      1.000000     0.962757\n",
            "petal width       0.817954    -0.356544      0.962757     1.000000\n"
          ],
          "name": "stdout"
        }
      ]
    },
    {
      "cell_type": "markdown",
      "metadata": {
        "id": "ej7p0bfmCgw9",
        "colab_type": "text"
      },
      "source": [
        "# Plotting Data"
      ]
    },
    {
      "cell_type": "code",
      "metadata": {
        "id": "wH9mZExQCgw-",
        "colab_type": "code",
        "outputId": "4ea827d4-058e-457a-99c0-e2b306d5284e",
        "colab": {}
      },
      "source": [
        "# Scatter plot matrix. \n",
        "pandas.plotting.scatter_matrix(data, c=data['iris'].cat.codes, figsize=(10,6));"
      ],
      "execution_count": 0,
      "outputs": [
        {
          "output_type": "error",
          "ename": "NameError",
          "evalue": "name 'pandas' is not defined",
          "traceback": [
            "\u001b[0;31m---------------------------------------------------------------------------\u001b[0m",
            "\u001b[0;31mNameError\u001b[0m                                 Traceback (most recent call last)",
            "\u001b[0;32m<ipython-input-1-1fc8e7730884>\u001b[0m in \u001b[0;36m<module>\u001b[0;34m\u001b[0m\n\u001b[1;32m      1\u001b[0m \u001b[0;31m# Scatter plot matrix.\u001b[0m\u001b[0;34m\u001b[0m\u001b[0;34m\u001b[0m\u001b[0;34m\u001b[0m\u001b[0m\n\u001b[0;32m----> 2\u001b[0;31m \u001b[0mpandas\u001b[0m\u001b[0;34m.\u001b[0m\u001b[0mplotting\u001b[0m\u001b[0;34m.\u001b[0m\u001b[0mscatter_matrix\u001b[0m\u001b[0;34m(\u001b[0m\u001b[0mdata\u001b[0m\u001b[0;34m,\u001b[0m \u001b[0mc\u001b[0m\u001b[0;34m=\u001b[0m\u001b[0mdata\u001b[0m\u001b[0;34m[\u001b[0m\u001b[0;34m'iris'\u001b[0m\u001b[0;34m]\u001b[0m\u001b[0;34m.\u001b[0m\u001b[0mcat\u001b[0m\u001b[0;34m.\u001b[0m\u001b[0mcodes\u001b[0m\u001b[0;34m,\u001b[0m \u001b[0mfigsize\u001b[0m\u001b[0;34m=\u001b[0m\u001b[0;34m(\u001b[0m\u001b[0;36m10\u001b[0m\u001b[0;34m,\u001b[0m\u001b[0;36m6\u001b[0m\u001b[0;34m)\u001b[0m\u001b[0;34m)\u001b[0m\u001b[0;34m;\u001b[0m\u001b[0;34m\u001b[0m\u001b[0;34m\u001b[0m\u001b[0m\n\u001b[0m",
            "\u001b[0;31mNameError\u001b[0m: name 'pandas' is not defined"
          ]
        }
      ]
    },
    {
      "cell_type": "code",
      "metadata": {
        "id": "4uY0ILrrCgxA",
        "colab_type": "code",
        "outputId": "2402268e-8c5d-4821-e022-7fee5c81c895",
        "colab": {}
      },
      "source": [
        "# Plot petal width vs. length.\n",
        "import matplotlib.pyplot as plt \n",
        "for species in data['iris'].cat.categories:\n",
        "    subset = data.loc[data['iris'] == species]\n",
        "    plt.scatter(subset['petal length'], subset['petal width'], label=species)\n",
        "plt.xlabel('petal length')\n",
        "plt.ylabel('petal width')\n",
        "plt.legend();"
      ],
      "execution_count": 0,
      "outputs": [
        {
          "output_type": "display_data",
          "data": {
            "image/png": "[encoded data removed]",
            "text/plain": [
              "<Figure size 432x288 with 1 Axes>"
            ]
          },
          "metadata": {
            "tags": [],
            "needs_background": "light"
          }
        }
      ]
    },
    {
      "cell_type": "markdown",
      "metadata": {
        "id": "tT1AIpmZCgxD",
        "colab_type": "text"
      },
      "source": [
        "# Visualization with 2D Embeddings"
      ]
    },
    {
      "cell_type": "markdown",
      "metadata": {
        "id": "ST2UuBImCgxE",
        "colab_type": "text"
      },
      "source": [
        "Visualizing high-dimensional data is challenging. Viewing two dimensions at a time, as we did above, is often insufficient for capturing the structure of the data. *Embeddings* map high-dimensional data to 2D in a 'smart' way. They necessarily lose information, so they aren't perfect, but they can be extremely useful for exploratory data analysis. \n",
        "\n",
        "Two common embeddings for visualization are Principle Component Analysis (PCA) and UMAP. These methods make very different assumptions about the data, so the visualizations look very different. "
      ]
    },
    {
      "cell_type": "code",
      "metadata": {
        "id": "loK6zJC6CgxF",
        "colab_type": "code",
        "outputId": "1c18158a-25d1-4127-bd94-9cc2bb2dc8de",
        "colab": {}
      },
      "source": [
        "from sklearn.decomposition import PCA\n",
        "\n",
        "X     = data.iloc[:,:4]\n",
        "pca   = PCA(n_components=2)\n",
        "X_pca = pca.fit(X).transform(X)\n",
        "\n",
        "# Percentage of variance explained for each components\n",
        "print('Fraction of variance explained by PC1: %0.2f' % pca.explained_variance_ratio_[0])\n",
        "print('Additional variance explained by PC2: %0.2f' % pca.explained_variance_ratio_[1])\n",
        "\n",
        "for species in data['iris'].cat.categories:\n",
        "    subset = X_pca[data['iris'] == species]\n",
        "    plt.scatter(subset[:,0], subset[:,1], label=species)\n",
        "plt.xlabel('PC 0')\n",
        "plt.ylabel('PC 1')\n",
        "plt.legend();"
      ],
      "execution_count": 0,
      "outputs": [
        {
          "output_type": "stream",
          "text": [
            "Fraction of variance explained by PC1: 0.92\n",
            "Additional variance explained by PC2: 0.05\n"
          ],
          "name": "stdout"
        },
        {
          "output_type": "display_data",
          "data": {
            "image/png": "[encoded data removed]",
            "text/plain": [
              "<Figure size 432x288 with 1 Axes>"
            ]
          },
          "metadata": {
            "tags": [],
            "needs_background": "light"
          }
        }
      ]
    },
    {
      "cell_type": "code",
      "metadata": {
        "id": "4DpSpHpKCgxH",
        "colab_type": "code",
        "outputId": "4a362eac-a46e-4079-9bd3-84955216c36d",
        "colab": {}
      },
      "source": [
        "#!pip install umap-learn\n",
        "import umap\n",
        "\n",
        "X       = data.iloc[:,:4]\n",
        "reducer = umap.UMAP()\n",
        "X_umap  = reducer.fit_transform(X)\n",
        "\n",
        "plt.scatter(X_umap[:, 0], X_umap[:, 1], c=data.cat.codes)\n",
        "plt.gca().set_aspect('equal', 'datalim')\n",
        "plt.title('UMAP projection of the Iris dataset', fontsize=24);"
      ],
      "execution_count": 0,
      "outputs": [
        {
          "output_type": "stream",
          "text": [
            "/home/psadow/.conda/envs/env_9_2019/lib/python3.7/site-packages/umap/spectral.py:229: UserWarning: Embedding a total of 2 separate connected components using meta-embedding (experimental)\n",
            "  n_components\n"
          ],
          "name": "stderr"
        },
        {
          "output_type": "error",
          "ename": "AttributeError",
          "evalue": "'DataFrame' object has no attribute 'cat'",
          "traceback": [
            "\u001b[0;31m---------------------------------------------------------------------------\u001b[0m",
            "\u001b[0;31mAttributeError\u001b[0m                            Traceback (most recent call last)",
            "\u001b[0;32m<ipython-input-11-2ba3b78d513d>\u001b[0m in \u001b[0;36m<module>\u001b[0;34m\u001b[0m\n\u001b[1;32m      6\u001b[0m \u001b[0mX_umap\u001b[0m  \u001b[0;34m=\u001b[0m \u001b[0mreducer\u001b[0m\u001b[0;34m.\u001b[0m\u001b[0mfit_transform\u001b[0m\u001b[0;34m(\u001b[0m\u001b[0mX\u001b[0m\u001b[0;34m)\u001b[0m\u001b[0;34m\u001b[0m\u001b[0;34m\u001b[0m\u001b[0m\n\u001b[1;32m      7\u001b[0m \u001b[0;34m\u001b[0m\u001b[0m\n\u001b[0;32m----> 8\u001b[0;31m \u001b[0mplt\u001b[0m\u001b[0;34m.\u001b[0m\u001b[0mscatter\u001b[0m\u001b[0;34m(\u001b[0m\u001b[0mX_umap\u001b[0m\u001b[0;34m[\u001b[0m\u001b[0;34m:\u001b[0m\u001b[0;34m,\u001b[0m \u001b[0;36m0\u001b[0m\u001b[0;34m]\u001b[0m\u001b[0;34m,\u001b[0m \u001b[0mX_umap\u001b[0m\u001b[0;34m[\u001b[0m\u001b[0;34m:\u001b[0m\u001b[0;34m,\u001b[0m \u001b[0;36m1\u001b[0m\u001b[0;34m]\u001b[0m\u001b[0;34m,\u001b[0m \u001b[0mc\u001b[0m\u001b[0;34m=\u001b[0m\u001b[0mdata\u001b[0m\u001b[0;34m.\u001b[0m\u001b[0mcat\u001b[0m\u001b[0;34m.\u001b[0m\u001b[0mcodes\u001b[0m\u001b[0;34m)\u001b[0m\u001b[0;34m\u001b[0m\u001b[0;34m\u001b[0m\u001b[0m\n\u001b[0m\u001b[1;32m      9\u001b[0m \u001b[0mplt\u001b[0m\u001b[0;34m.\u001b[0m\u001b[0mgca\u001b[0m\u001b[0;34m(\u001b[0m\u001b[0;34m)\u001b[0m\u001b[0;34m.\u001b[0m\u001b[0mset_aspect\u001b[0m\u001b[0;34m(\u001b[0m\u001b[0;34m'equal'\u001b[0m\u001b[0;34m,\u001b[0m \u001b[0;34m'datalim'\u001b[0m\u001b[0;34m)\u001b[0m\u001b[0;34m\u001b[0m\u001b[0;34m\u001b[0m\u001b[0m\n\u001b[1;32m     10\u001b[0m \u001b[0mplt\u001b[0m\u001b[0;34m.\u001b[0m\u001b[0mtitle\u001b[0m\u001b[0;34m(\u001b[0m\u001b[0;34m'UMAP projection of the Iris dataset'\u001b[0m\u001b[0;34m,\u001b[0m \u001b[0mfontsize\u001b[0m\u001b[0;34m=\u001b[0m\u001b[0;36m24\u001b[0m\u001b[0;34m)\u001b[0m\u001b[0;34m;\u001b[0m\u001b[0;34m\u001b[0m\u001b[0;34m\u001b[0m\u001b[0m\n",
            "\u001b[0;32m~/.conda/envs/env_9_2019/lib/python3.7/site-packages/pandas/core/generic.py\u001b[0m in \u001b[0;36m__getattr__\u001b[0;34m(self, name)\u001b[0m\n\u001b[1;32m   5177\u001b[0m             \u001b[0;32mif\u001b[0m \u001b[0mself\u001b[0m\u001b[0;34m.\u001b[0m\u001b[0m_info_axis\u001b[0m\u001b[0;34m.\u001b[0m\u001b[0m_can_hold_identifiers_and_holds_name\u001b[0m\u001b[0;34m(\u001b[0m\u001b[0mname\u001b[0m\u001b[0;34m)\u001b[0m\u001b[0;34m:\u001b[0m\u001b[0;34m\u001b[0m\u001b[0;34m\u001b[0m\u001b[0m\n\u001b[1;32m   5178\u001b[0m                 \u001b[0;32mreturn\u001b[0m \u001b[0mself\u001b[0m\u001b[0;34m[\u001b[0m\u001b[0mname\u001b[0m\u001b[0;34m]\u001b[0m\u001b[0;34m\u001b[0m\u001b[0;34m\u001b[0m\u001b[0m\n\u001b[0;32m-> 5179\u001b[0;31m             \u001b[0;32mreturn\u001b[0m \u001b[0mobject\u001b[0m\u001b[0;34m.\u001b[0m\u001b[0m__getattribute__\u001b[0m\u001b[0;34m(\u001b[0m\u001b[0mself\u001b[0m\u001b[0;34m,\u001b[0m \u001b[0mname\u001b[0m\u001b[0;34m)\u001b[0m\u001b[0;34m\u001b[0m\u001b[0;34m\u001b[0m\u001b[0m\n\u001b[0m\u001b[1;32m   5180\u001b[0m \u001b[0;34m\u001b[0m\u001b[0m\n\u001b[1;32m   5181\u001b[0m     \u001b[0;32mdef\u001b[0m \u001b[0m__setattr__\u001b[0m\u001b[0;34m(\u001b[0m\u001b[0mself\u001b[0m\u001b[0;34m,\u001b[0m \u001b[0mname\u001b[0m\u001b[0;34m,\u001b[0m \u001b[0mvalue\u001b[0m\u001b[0;34m)\u001b[0m\u001b[0;34m:\u001b[0m\u001b[0;34m\u001b[0m\u001b[0;34m\u001b[0m\u001b[0m\n",
            "\u001b[0;31mAttributeError\u001b[0m: 'DataFrame' object has no attribute 'cat'"
          ]
        }
      ]
    },
    {
      "cell_type": "code",
      "metadata": {
        "id": "vJvhr5vTCgxK",
        "colab_type": "code",
        "outputId": "6c09e06c-9afa-4edd-d8f6-f935c4a62a23",
        "colab": {}
      },
      "source": [
        "data.cat"
      ],
      "execution_count": 0,
      "outputs": [
        {
          "output_type": "error",
          "ename": "AttributeError",
          "evalue": "'DataFrame' object has no attribute 'cat'",
          "traceback": [
            "\u001b[0;31m---------------------------------------------------------------------------\u001b[0m",
            "\u001b[0;31mAttributeError\u001b[0m                            Traceback (most recent call last)",
            "\u001b[0;32m<ipython-input-10-00714f728437>\u001b[0m in \u001b[0;36m<module>\u001b[0;34m\u001b[0m\n\u001b[0;32m----> 1\u001b[0;31m \u001b[0mdata\u001b[0m\u001b[0;34m.\u001b[0m\u001b[0mcat\u001b[0m\u001b[0;34m\u001b[0m\u001b[0;34m\u001b[0m\u001b[0m\n\u001b[0m",
            "\u001b[0;32m~/.conda/envs/env_9_2019/lib/python3.7/site-packages/pandas/core/generic.py\u001b[0m in \u001b[0;36m__getattr__\u001b[0;34m(self, name)\u001b[0m\n\u001b[1;32m   5177\u001b[0m             \u001b[0;32mif\u001b[0m \u001b[0mself\u001b[0m\u001b[0;34m.\u001b[0m\u001b[0m_info_axis\u001b[0m\u001b[0;34m.\u001b[0m\u001b[0m_can_hold_identifiers_and_holds_name\u001b[0m\u001b[0;34m(\u001b[0m\u001b[0mname\u001b[0m\u001b[0;34m)\u001b[0m\u001b[0;34m:\u001b[0m\u001b[0;34m\u001b[0m\u001b[0;34m\u001b[0m\u001b[0m\n\u001b[1;32m   5178\u001b[0m                 \u001b[0;32mreturn\u001b[0m \u001b[0mself\u001b[0m\u001b[0;34m[\u001b[0m\u001b[0mname\u001b[0m\u001b[0;34m]\u001b[0m\u001b[0;34m\u001b[0m\u001b[0;34m\u001b[0m\u001b[0m\n\u001b[0;32m-> 5179\u001b[0;31m             \u001b[0;32mreturn\u001b[0m \u001b[0mobject\u001b[0m\u001b[0;34m.\u001b[0m\u001b[0m__getattribute__\u001b[0m\u001b[0;34m(\u001b[0m\u001b[0mself\u001b[0m\u001b[0;34m,\u001b[0m \u001b[0mname\u001b[0m\u001b[0;34m)\u001b[0m\u001b[0;34m\u001b[0m\u001b[0;34m\u001b[0m\u001b[0m\n\u001b[0m\u001b[1;32m   5180\u001b[0m \u001b[0;34m\u001b[0m\u001b[0m\n\u001b[1;32m   5181\u001b[0m     \u001b[0;32mdef\u001b[0m \u001b[0m__setattr__\u001b[0m\u001b[0;34m(\u001b[0m\u001b[0mself\u001b[0m\u001b[0;34m,\u001b[0m \u001b[0mname\u001b[0m\u001b[0;34m,\u001b[0m \u001b[0mvalue\u001b[0m\u001b[0;34m)\u001b[0m\u001b[0;34m:\u001b[0m\u001b[0;34m\u001b[0m\u001b[0;34m\u001b[0m\u001b[0m\n",
            "\u001b[0;31mAttributeError\u001b[0m: 'DataFrame' object has no attribute 'cat'"
          ]
        }
      ]
    },
    {
      "cell_type": "markdown",
      "metadata": {
        "id": "QbpMwlxkCgxM",
        "colab_type": "text"
      },
      "source": [
        "# Learning\n",
        "\n"
      ]
    },
    {
      "cell_type": "code",
      "metadata": {
        "id": "hzOHyV_BCgxN",
        "colab_type": "code",
        "colab": {}
      },
      "source": [
        "subset = data.loc[data['iris'].isin(['Iris-versicolor', 'Iris-virginica'])]\n",
        "X = subset.iloc[:,:4]\n",
        "y = subset['iris'].cat.codes"
      ],
      "execution_count": 0,
      "outputs": []
    },
    {
      "cell_type": "code",
      "metadata": {
        "id": "rAVAJ-nFCgxP",
        "colab_type": "code",
        "colab": {}
      },
      "source": [
        "from sklearn.linear_model import LogisticRegression\n",
        "\n",
        "# Use only two classes from the data set.\n",
        "subset = data.loc[data['iris'].isin(['Iris-versicolor', 'Iris-virginica'])]\n",
        "X = subset.iloc[:,:4]\n",
        "y = subset['iris'].cat.codes\n",
        "\n",
        "# Fit logistic regression model to 100 data points.\n",
        "reg = LogisticRegression(solver='lbfgs').fit(X, y)\n",
        "acc_train = reg.score(X, y)\n",
        "print('Accuracy on training set: %0.1f%%' % (acc_train * 100))\n",
        "\n",
        "\n",
        "yhat = reg.predict(X)\n",
        "\n",
        "subset = data.loc[data['iris'] == species]\n",
        "plt.scatter(subset['petal length'], subset['petal width'], label=species)\n",
        "\n",
        "for species in data['iris'].cat.categories:\n",
        "    subset = data.loc[data['iris'] == species]\n",
        "    plt.scatter(subset['petal length'], subset['petal width'], label=species)\n",
        "plt.xlabel('petal length')\n",
        "plt.ylabel('petal width')\n",
        "plt.legend();"
      ],
      "execution_count": 0,
      "outputs": []
    },
    {
      "cell_type": "code",
      "metadata": {
        "id": "xr2wv4EqCgxS",
        "colab_type": "code",
        "colab": {}
      },
      "source": [
        "yhat"
      ],
      "execution_count": 0,
      "outputs": []
    },
    {
      "cell_type": "code",
      "metadata": {
        "id": "o44trIpECgxU",
        "colab_type": "code",
        "colab": {}
      },
      "source": [
        ""
      ],
      "execution_count": 0,
      "outputs": []
    }
  ]
}